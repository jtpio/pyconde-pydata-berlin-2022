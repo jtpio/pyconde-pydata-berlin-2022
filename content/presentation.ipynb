{
  "metadata": {
    "kernelspec": {
      "name": "python",
      "display_name": "Pyolite",
      "language": "python"
    },
    "language_info": {
      "codemirror_mode": {
        "name": "python",
        "version": 3
      },
      "file_extension": ".py",
      "mimetype": "text/x-python",
      "name": "python",
      "nbconvert_exporter": "python",
      "pygments_lexer": "ipython3",
      "version": "3.8"
    },
    "toc-showcode": false
  },
  "nbformat_minor": 4,
  "nbformat": 4,
  "cells": [
    {
      "cell_type": "code",
      "source": "import pandas\nimport matplotlib\nimport piplite\n\nawait piplite.install(['altair', 'plotly', 'nbformat'])",
      "metadata": {
        "trusted": true
      },
      "execution_count": null,
      "outputs": []
    },
    {
      "cell_type": "markdown",
      "source": "<br><br><br><br><br><br><br><br><br><br><br><br><br><br><br><br><br><br><br><br><br><br><br><br><br><br><br><br><br><br><br><br><br><br><br><br>",
      "metadata": {}
    },
    {
      "cell_type": "markdown",
      "source": "<p style=\"text-align: center\">\n    <img src=\"https://user-images.githubusercontent.com/591645/138829924-ea536fd4-2352-4214-8691-a80cd87cef2c.png\">\n</p>\n<h2 style=\"text-align: center\">JupyterLite: Jupyter ❤️ WebAssembly ❤️ Python</h2>\n<h2 style=\"text-align: center\">PyConDE & PyData Berlin 2022 - 2022-04-12</h2>\n<h3 style=\"text-align: center\"><a href=\"https://github.com/jupyterlite/jupyterlite\">https://github.com/jupyterlite/jupyterlite</a></h3>\n\n---\n\n<h4 style=\"text-align: center\">Thorsten Beier - <a href=\"https://twitter.com/ThorstenBeier\">@ThorstenBeier</a></h4>\n<h4 style=\"text-align: center\">Nicholas Bollweg - <a href=\"https://github.com/bollwyvl\">@bollwyvl</a></h4>\n<h4 style=\"text-align: center\">Martin Renou - <a href=\"https://twitter.com/martinRenou\">@martinRenou</a></h4>\n<h4 style=\"text-align: center\">Madhur Tandon - <a href=\"https://twitter.com/mad_tandon\">@mad_tandon</a></h4>\n<h4 style=\"text-align: center\">Jeremy Tuloup - <a href=\"https://twitter.com/jtpio\">@jtpio</a></h4>",
      "metadata": {
        "tags": []
      }
    },
    {
      "cell_type": "code",
      "source": "print('Hello World!')",
      "metadata": {
        "trusted": true
      },
      "execution_count": null,
      "outputs": []
    },
    {
      "cell_type": "markdown",
      "source": "<br><br><br><br><br><br><br><br><br><br><br><br><br><br><br><br><br><br><br><br><br><br><br><br><br><br><br><br><br><br><br><br><br><br><br><br>",
      "metadata": {}
    },
    {
      "cell_type": "markdown",
      "source": "# Browser-based Interactive Computing",
      "metadata": {}
    },
    {
      "cell_type": "code",
      "source": "1 + 1",
      "metadata": {
        "trusted": true
      },
      "execution_count": null,
      "outputs": []
    },
    {
      "cell_type": "code",
      "source": "import this",
      "metadata": {
        "trusted": true
      },
      "execution_count": null,
      "outputs": []
    },
    {
      "cell_type": "code",
      "source": "import sys\nprint('boom', file=sys.stderr)",
      "metadata": {
        "trusted": true
      },
      "execution_count": null,
      "outputs": []
    },
    {
      "cell_type": "markdown",
      "source": "<br><br><br><br><br><br><br><br><br><br><br><br><br><br><br><br><br><br><br><br><br><br><br><br><br><br><br><br><br><br><br><br><br><br><br><br>",
      "metadata": {}
    },
    {
      "cell_type": "markdown",
      "source": "## History\n\n### Jyve, by Nicholas Bollweg\n\n<p style=\"text-align: center\">\n    <img src=\"https://user-images.githubusercontent.com/591645/120651123-b8c87380-c47e-11eb-92dc-91577794544b.png\" width=\"40%\">\n</p>\n\n### p5 notebook, by Jeremy Tuloup\n\n<p style=\"text-align: center\">\n    <img src=\"https://raw.githubusercontent.com/jtpio/p5-notebook/e2ce096b2061e2a20b08d1e2e49de00d93055a5a/screenshot.png\" width=\"40%\">\n</p>\n\n### Basthon, by Romain Casati\n\n<p style=\"text-align: center\">\n    <img src=\"https://user-images.githubusercontent.com/591645/120651295-eb726c00-c47e-11eb-99c6-4a72f90e3bc2.png\" width=\"40%\">\n</p>\n\n### Starboard, by Guido Zuidhof\n\n<p style=\"text-align: center\">\n    <img src=\"https://user-images.githubusercontent.com/591645/120651446-1492fc80-c47f-11eb-91aa-8b891832d921.png\" width=\"40%\">\n</p>\n\n### Observable, by Mike Bostock\n\n<p style=\"text-align: center\">\n    <img src=\"https://user-images.githubusercontent.com/591645/120678237-2fbe3600-c498-11eb-8654-d521afa8c311.png\" width=\"40%\">\n</p>",
      "metadata": {
        "tags": []
      }
    },
    {
      "cell_type": "markdown",
      "source": "<br><br><br><br><br><br><br><br><br><br><br><br><br><br><br><br><br><br><br><br><br><br><br><br><br><br><br><br><br><br><br><br><br><br><br><br>",
      "metadata": {}
    },
    {
      "cell_type": "markdown",
      "source": "<p style=\"text-align: center\">\n    <img src=\"https://user-images.githubusercontent.com/591645/162559340-bf7e738a-7195-419e-9ae1-e10d9ea6783e.png\" width=\"40%\">\n</p>",
      "metadata": {}
    },
    {
      "cell_type": "markdown",
      "source": "<br><br><br><br><br><br><br><br><br><br><br><br><br><br><br><br><br><br><br><br><br><br><br><br><br><br><br><br><br><br><br><br><br><br><br><br>",
      "metadata": {}
    },
    {
      "cell_type": "markdown",
      "source": "# JupyterLab and Notebook v7\n\n- Combine Offline Notebook storage in browser (`localStorage` or `IndexedDB`) with server files\n- Support for saving settings for JupyterLab core and federated extensions\n- Session and kernel management to have multiple kernels running on the page at the same time\n- Support for [Code Consoles](https://jupyterlab.readthedocs.io/en/stable/user/code_console.html)\n- Additional display languages like French and Simplified Chinese\n- Built-in JupyterLab Themes and third-party (prebuilt) themes",
      "metadata": {}
    },
    {
      "cell_type": "markdown",
      "source": "<br><br><br><br><br><br><br><br><br><br><br><br><br><br><br><br><br><br><br><br><br><br><br><br><br><br><br><br><br><br><br><br><br><br><br><br>",
      "metadata": {}
    },
    {
      "cell_type": "markdown",
      "source": "## Boots in seconds\n\nUseful to quickly try something out.\n\n**Examples**\n\n- https://jupyterlite.rtfd.io/en/latest/try/lab (Read The Docs), from https://github.com/jupyterlite/jupyterlite\n- https://jupyterlite.github.io/demo (GitHub Pages), from https://github.com/jupyterlite/demo\n\n<p style=\"text-align: center\">\n    <img src=\"https://user-images.githubusercontent.com/591645/120649478-18258400-c47d-11eb-80e5-185e52ff2702.gif\">\n</p>",
      "metadata": {}
    },
    {
      "cell_type": "markdown",
      "source": "<br><br><br><br><br><br><br><br><br><br><br><br><br><br><br><br><br><br><br><br><br><br><br><br><br><br><br><br><br><br><br><br><br><br><br><br>",
      "metadata": {}
    },
    {
      "cell_type": "markdown",
      "source": "# Easy to deploy\n\nhttps://jupyterlite.readthedocs.io/en/latest/deploying.html\n\n<img width=256 src=\"https://user-images.githubusercontent.com/591645/120675034-00f29080-c495-11eb-928c-26bb94e8eb68.png\">\n\n---\n\n<img width=256 src=\"https://user-images.githubusercontent.com/591645/120676545-6dba5a80-c496-11eb-9b2b-604e92c3429b.png\">\n\n\n\n---\n\n<img width=256 src=\"https://user-images.githubusercontent.com/591645/120675516-6f375300-c495-11eb-819c-d6f1fb3cb0f1.png\">\n\n---\n\n<img width=256 src=\"https://user-images.githubusercontent.com/591645/120676108-03a1b580-c496-11eb-8990-ed30c7861376.png\">\n\n---\n\n<img width=256 src=\"https://user-images.githubusercontent.com/591645/120676313-2df37300-c496-11eb-8639-25e2fc606850.png\">\n\nAnd more: Netlify, nginx, Heroku...",
      "metadata": {}
    },
    {
      "cell_type": "markdown",
      "source": "<br><br><br><br><br><br><br><br><br><br><br><br><br><br><br><br><br><br><br><br><br><br><br><br><br><br><br><br><br><br><br><br><br><br><br><br>",
      "metadata": {}
    },
    {
      "cell_type": "markdown",
      "source": "# Features",
      "metadata": {}
    },
    {
      "cell_type": "markdown",
      "source": "## Pyolite, the Python kernel powered by Pyodide, is shipped by default\n\n![pyodide-logo](https://raw.githubusercontent.com/pyodide/pyodide/master/docs/_static/img/pyodide-logo.png)",
      "metadata": {}
    },
    {
      "cell_type": "code",
      "source": "import pyolite\npyolite.__version__",
      "metadata": {},
      "execution_count": null,
      "outputs": []
    },
    {
      "cell_type": "code",
      "source": "import sys\nsys.version",
      "metadata": {},
      "execution_count": null,
      "outputs": []
    },
    {
      "cell_type": "markdown",
      "source": "<br><br><br><br><br><br><br><br><br><br><br><br><br><br><br><br><br><br><br><br><br><br><br><br><br><br><br><br><br><br><br><br><br><br><br><br>",
      "metadata": {}
    },
    {
      "cell_type": "markdown",
      "source": "## Interactive visualizations",
      "metadata": {}
    },
    {
      "cell_type": "markdown",
      "source": "## [Matplotlib](./pyolite/matplotlib.ipynb)",
      "metadata": {}
    },
    {
      "cell_type": "code",
      "source": "import numpy as np\nimport matplotlib.pyplot as plt",
      "metadata": {
        "trusted": true
      },
      "execution_count": null,
      "outputs": []
    },
    {
      "cell_type": "code",
      "source": "x = np.linspace(0, 10, 1000)\nplt.plot(x, np.sin(x))\nplt.show()",
      "metadata": {
        "trusted": true
      },
      "execution_count": null,
      "outputs": []
    },
    {
      "cell_type": "markdown",
      "source": "## [Plotly](./pyolite/plotly.ipynb)",
      "metadata": {
        "tags": []
      }
    },
    {
      "cell_type": "code",
      "source": "import piplite\n\nawait piplite.install(['nbformat', 'plotly'])",
      "metadata": {
        "trusted": true
      },
      "execution_count": null,
      "outputs": []
    },
    {
      "cell_type": "code",
      "source": "import plotly.graph_objects as go\nfig = go.Figure()\nfig.add_trace(go.Scatter(y=[2, 1, 4, 3]))\nfig.add_trace(go.Bar(y=[1, 4, 3, 2]))\nfig.update_layout(title = 'Hello Figure')\nfig.show()",
      "metadata": {
        "trusted": true
      },
      "execution_count": null,
      "outputs": []
    },
    {
      "cell_type": "markdown",
      "source": "## [Altair](./pyolite/altair.ipynb)",
      "metadata": {
        "tags": []
      }
    },
    {
      "cell_type": "code",
      "source": "await piplite.install(\"altair\")",
      "metadata": {
        "trusted": true
      },
      "execution_count": null,
      "outputs": []
    },
    {
      "cell_type": "code",
      "source": "import altair as alt\nimport pandas as pd\n\nsource = pd.DataFrame({\n    'a': ['A', 'B', 'C', 'D', 'E', 'F', 'G', 'H', 'I'],\n    'b': [28, 55, 43, 91, 81, 53, 19, 87, 52]\n})\n\nalt.Chart(source).mark_bar().encode(\n    x='a',\n    y='b'\n)",
      "metadata": {
        "trusted": true
      },
      "execution_count": null,
      "outputs": []
    },
    {
      "cell_type": "markdown",
      "source": "## GeoJSON",
      "metadata": {}
    },
    {
      "cell_type": "code",
      "source": "def GeoJSON(data):\n    bundle = {}\n    bundle['application/geo+json'] = data\n    bundle['text/plain'] = data\n    display(bundle, raw=True)\n    \nGeoJSON({\n  \"type\": \"Feature\",\n  \"geometry\": {\n    \"type\": \"Point\",\n    \"coordinates\": [13.416530544500729, 52.52090154392871]\n  },\n  \"properties\": {\n    \"name\": \"Berlin Congress Center\"\n  }\n})",
      "metadata": {
        "trusted": true
      },
      "execution_count": null,
      "outputs": []
    },
    {
      "cell_type": "markdown",
      "source": "<br><br><br><br><br><br><br><br><br><br><br><br><br><br><br><br><br><br><br><br><br><br><br><br><br><br><br><br><br><br><br><br><br><br><br><br>",
      "metadata": {}
    },
    {
      "cell_type": "markdown",
      "source": "# Jupyter Widgets",
      "metadata": {}
    },
    {
      "cell_type": "markdown",
      "source": "## ➡️ [ipywidgets](./pyolite/interactive-widgets.ipynb)\n\n## ➡️ [ipycanvas](./pyolite/ipycanvas.ipynb)\n\n## ➡️ [ipyleaflet](./pyolite/ipyleaflet.ipynb)",
      "metadata": {
        "tags": []
      }
    },
    {
      "cell_type": "markdown",
      "source": "<br><br><br><br><br><br><br><br><br><br><br><br><br><br><br><br><br><br><br><br><br><br><br><br><br><br><br><br><br><br><br><br><br><br><br><br>",
      "metadata": {}
    },
    {
      "cell_type": "markdown",
      "source": "<p style=\"text-align: center\">\n    <img src=\"https://user-images.githubusercontent.com/904752/139083996-d158fd29-c038-4370-8d39-20956c4510bf.png\" width=\"40%\">\n</p>\n\n# Xeus powered kernels with WebAssembly \n\n## Blog post: https://blog.jupyter.org/xeus-lite-379e96bb199d\n<br>\n\n## Xeus is C++ library for writing Jupyter kernels :\n### ➡️ [xeus-cling](https://github.com/QuantStack/xeus-cling)  ➡️ [xeus-python](https://github.com/jupyter-xeus/xeus-python) ➡️ [xeus-lua](https://github.com/jupyter-xeus/xeus-lua) ➡️ [xeus-sql](https://github.com/jupyter-xeus/xeus-sql)\n",
      "metadata": {}
    },
    {
      "cell_type": "markdown",
      "source": "<br><br><br><br><br><br><br><br><br><br><br><br><br><br><br><br><br><br><br><br><br><br><br><br><br><br><br><br><br><br><br><br><br><br><br><br>\n",
      "metadata": {}
    },
    {
      "cell_type": "markdown",
      "source": "<p style=\"text-align: center\">\n    <img src=\"https://user-images.githubusercontent.com/904752/139083264-4477844a-85b2-4fe6-b327-2d8bb21198dd.png\" width=\"40%\">\n</p>\n\n## ➡️ [Game of Life](./xeus-lua/game-of-life.ipynb)\n\n## ➡️ [Widgets](./xeus-lua/widgets.ipynb) \n\n<p style=\"text-align: center\">\n    <img src=\"https://user-images.githubusercontent.com/904752/139083933-bef20cf6-6322-4af0-b0c9-b4742285e751.gif\" width=\"40%\">\n</p>",
      "metadata": {}
    },
    {
      "cell_type": "markdown",
      "source": "<br><br><br><br><br><br><br><br><br><br><br><br><br><br><br><br><br><br><br><br><br><br><br><br><br><br><br><br><br><br><br><br><br><br><br><br>",
      "metadata": {}
    },
    {
      "cell_type": "markdown",
      "source": "# Share Files Easily\n\n<p style=\"text-align: center\">\n    <img src=\"https://user-images.githubusercontent.com/591645/139148148-ce1ecb0e-1f1b-4d4d-ad1d-3f7200b1e7cc.png\" width=\"40%\">\n</p>",
      "metadata": {}
    },
    {
      "cell_type": "markdown",
      "source": "<br><br><br><br><br><br><br><br><br><br><br><br><br><br><br><br><br><br><br><br><br><br><br><br><br><br><br><br><br><br><br><br><br><br><br><br>",
      "metadata": {}
    },
    {
      "cell_type": "markdown",
      "source": "# Real Time Collaboration via WebRTC\n\n## PyData Global 2021 Presentation by Kevin Jahns: https://www.youtube.com/watch?v=QtoJsK8QYNk\n\n\n<p style=\"text-align: center\">\n    <img src=\"https://user-images.githubusercontent.com/591645/120653630-2b3a5300-c481-11eb-8c66-eeaa3674cbb1.gif\" width=\"100%\">\n</p>",
      "metadata": {}
    },
    {
      "cell_type": "markdown",
      "source": "<br><br><br><br><br><br><br><br><br><br><br><br><br><br><br><br><br><br><br><br><br><br><br><br><br><br><br><br><br><br><br><br><br><br><br><br>",
      "metadata": {}
    },
    {
      "cell_type": "markdown",
      "source": "# A Jupyter Server running in the browser\n\n- provides in-browser equivalents of much of \"normal\" JupyterLab Server\n- plugin-based Lumino application, _à la_ JupyterLab\n- customizable with pre-built _server extensions_\n  - new kernels\n  - different contents managers\n  - remote kernels\n\n<p style=\"text-align: center\">\n    <img src=\"https://user-images.githubusercontent.com/591645/162563632-0cabf224-0f6f-40bd-8696-63f2119ab788.png\">\n</p>",
      "metadata": {}
    },
    {
      "cell_type": "markdown",
      "source": "<br><br><br><br><br><br><br><br><br><br><br><br><br><br><br><br><br><br><br><br><br><br><br><br><br><br><br><br><br><br><br><br><br><br><br><br>",
      "metadata": {}
    },
    {
      "cell_type": "markdown",
      "source": "# Jupyter Everywhere 🌐\n\n![jupyter-everywhere](https://user-images.githubusercontent.com/591645/162568867-343ecd3b-1344-4353-a885-73a78f79fd13.jpg)",
      "metadata": {}
    },
    {
      "cell_type": "markdown",
      "source": "<br><br><br><br><br><br><br><br><br><br><br><br><br><br><br><br><br><br><br><br><br><br><br><br><br><br><br><br><br><br><br><br><br><br><br><br>",
      "metadata": {}
    },
    {
      "cell_type": "markdown",
      "source": "## Embed a live Python console on your website 🚀\n\nBlog post: https://blog.jupyter.org/jupyter-everywhere-f8151c2cc6e8\n\n### The REPL Application\n\n![image](https://user-images.githubusercontent.com/591645/162570397-417cd87f-cc82-44aa-bc84-feff9cb4c530.png)",
      "metadata": {}
    },
    {
      "cell_type": "markdown",
      "source": "<br><br><br><br><br><br><br><br><br><br><br><br><br><br><br><br><br><br><br><br><br><br><br><br><br><br><br><br><br><br><br><br><br><br><br><br>",
      "metadata": {}
    },
    {
      "cell_type": "markdown",
      "source": "\n\n### [numpy.org](https://numpy.org)\n\n![image](https://user-images.githubusercontent.com/591645/162569443-40e841ad-f42d-44eb-966f-c1c810c1ab10.png)\n\n## [try.jupyter.org](https://try.jupyter.org)\n\n#### - Help reduce the load on [mybinder.org](https://mybinder.org)\n#### - Huge savings: trade compute resources (1 GB / 1 CPU) for static assets\n\n![image](https://user-images.githubusercontent.com/591645/162569510-56287b4b-acf2-47f9-90af-7b0605c5b112.png)\n\n## [jupyterlite-sphinx](https://jupyterlite-sphinx.readthedocs.io/en/latest/)\n\n![image](https://user-images.githubusercontent.com/591645/162572578-a3ee770b-d622-4e18-a7c0-71d98627309f.png)\n\n## More to come\n\n#### - Pandas: https://github.com/pandas-dev/pandas/issues/46682\n#### - Sympy: https://github.com/sympy/sympy.github.com/pull/169\n#### - More documentation websites",
      "metadata": {}
    },
    {
      "cell_type": "markdown",
      "source": "<br><br><br><br><br><br><br><br><br><br><br><br><br><br><br><br><br><br><br><br><br><br><br><br><br><br><br><br><br><br><br><br><br><br><br><br>",
      "metadata": {}
    },
    {
      "cell_type": "markdown",
      "source": "## p5 notebook\n\n### Repo: https://github.com/jtpio/p5-notebook\n\n### Try it on: https://p5nb.vercel.app\n\n<p style=\"text-align: center\">\n    <img src=\"https://user-images.githubusercontent.com/591645/135836629-4fb3e6f7-fde5-41d7-bea7-7bd714c5f428.gif\">\n</p>",
      "metadata": {}
    },
    {
      "cell_type": "markdown",
      "source": "<br><br><br><br><br><br><br><br><br><br><br><br><br><br><br><br><br><br><br><br><br><br><br><br><br><br><br><br><br><br><br><br><br><br><br><br>",
      "metadata": {}
    },
    {
      "cell_type": "markdown",
      "source": "# Up Next\n\n## - Better way to expose files and contents to the kernels\n\n## - Improved package management for WebAssembly with conda-forge\n\n## - \"Voilite\": Voilà dashboards running in the browser",
      "metadata": {}
    },
    {
      "cell_type": "markdown",
      "source": "<br><br><br><br><br><br><br><br><br><br><br><br><br><br><br><br><br><br><br><br><br><br><br><br><br><br><br><br><br><br><br><br><br><br><br><br>",
      "metadata": {}
    },
    {
      "cell_type": "markdown",
      "source": "# Thanks!\n\n## Special thanks to all the contributors! ❤️\n\n<a href=\"https://github.com/jupyterlite/jupyterlite/graphs/contributors\">\n  <img src=\"https://contrib.rocks/image?repo=jupyterlite/jupyterlite\" />\n</a>\n",
      "metadata": {}
    }
  ]
}