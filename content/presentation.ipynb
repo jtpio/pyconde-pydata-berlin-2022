{
  "cells": [
    {
      "cell_type": "code",
      "execution_count": null,
      "metadata": {
        "trusted": true
      },
      "outputs": [],
      "source": [
        "import pandas\n",
        "import matplotlib\n",
        "import piplite\n",
        "\n",
        "await piplite.install(['altair', 'plotly', 'nbformat', 'ipywidgets', 'bqplot', 'ipyleaflet'])"
      ]
    },
    {
      "cell_type": "markdown",
      "metadata": {},
      "source": [
        "<br><br><br><br><br><br><br><br><br><br><br><br><br><br><br><br><br><br><br><br><br><br><br><br><br><br><br><br><br><br><br><br><br><br><br><br>"
      ]
    },
    {
      "cell_type": "markdown",
      "metadata": {
        "tags": []
      },
      "source": [
        "<p style=\"text-align: center\">\n",
        "    <img src=\"https://user-images.githubusercontent.com/591645/138829924-ea536fd4-2352-4214-8691-a80cd87cef2c.png\">\n",
        "</p>\n",
        "<h2 style=\"text-align: center\">JupyterLite: Jupyter ❤️ WebAssembly ❤️ Python</h2>\n",
        "<h2 style=\"text-align: center\">PyConDE & PyData Berlin 2022 - 2022-04-12</h2>\n",
        "<h3 style=\"text-align: center\"><a href=\"https://github.com/jupyterlite/jupyterlite\">https://github.com/jupyterlite/jupyterlite</a></h3>\n",
        "\n",
        "---\n",
        "\n",
        "<h4 style=\"text-align: center\">Thorsten Beier - <a href=\"https://twitter.com/ThorstenBeier\">@ThorstenBeier</a></h4>\n",
        "<h4 style=\"text-align: center\">Nicholas Bollweg - <a href=\"https://github.com/bollwyvl\">@bollwyvl</a></h4>\n",
        "<h4 style=\"text-align: center\">Martin Renou - <a href=\"https://twitter.com/martinRenou\">@martinRenou</a></h4>\n",
        "<h4 style=\"text-align: center\">Madhur Tandon - <a href=\"https://twitter.com/mad_tandon\">@mad_tandon</a></h4>\n",
        "<h4 style=\"text-align: center\">Jeremy Tuloup - <a href=\"https://twitter.com/jtpio\">@jtpio</a></h4>"
      ]
    },
    {
      "cell_type": "markdown",
      "metadata": {},
      "source": [
        "<br><br><br><br><br><br><br><br><br><br><br><br><br><br><br><br><br><br><br><br><br><br><br><br><br><br><br><br><br><br><br><br><br><br><br><br>"
      ]
    },
    {
      "cell_type": "markdown",
      "metadata": {},
      "source": [
        "![image](https://user-images.githubusercontent.com/591645/162733593-43aaf6ae-df8d-465e-9986-bacbe89fee1c.png)"
      ]
    },
    {
      "cell_type": "markdown",
      "metadata": {},
      "source": [
        "<br><br><br><br><br><br><br><br><br><br><br><br><br><br><br><br><br><br><br><br><br><br><br><br><br><br><br><br><br><br><br><br><br><br><br><br>"
      ]
    },
    {
      "cell_type": "markdown",
      "metadata": {},
      "source": [
        "# How is JupyterLite different than normal Jupyter? 🤔\n",
        "\n",
        "## Browser-based Interactive Computing"
      ]
    },
    {
      "cell_type": "code",
      "execution_count": null,
      "metadata": {},
      "outputs": [],
      "source": [
        "print('Hello World!')"
      ]
    },
    {
      "cell_type": "code",
      "execution_count": null,
      "metadata": {
        "trusted": true
      },
      "outputs": [],
      "source": [
        "1 + 1"
      ]
    },
    {
      "cell_type": "code",
      "execution_count": null,
      "metadata": {
        "trusted": true
      },
      "outputs": [],
      "source": [
        "import this"
      ]
    },
    {
      "cell_type": "code",
      "execution_count": null,
      "metadata": {
        "trusted": true
      },
      "outputs": [],
      "source": [
        "import sys\n",
        "print('boom', file=sys.stderr)"
      ]
    },
    {
      "cell_type": "markdown",
      "metadata": {},
      "source": [
        "<br><br><br><br><br><br><br><br><br><br><br><br><br><br><br><br><br><br><br><br><br><br><br><br><br><br><br><br><br><br><br><br><br><br><br><br>"
      ]
    },
    {
      "cell_type": "markdown",
      "metadata": {},
      "source": [
        "## Boots in seconds\n",
        "\n",
        "Useful to quickly try something out.\n",
        "\n",
        "This presentation is deployed on GitHub Pages: https://github.com/jtpio/pyconde-pydata-berlin-2022\n",
        "\n",
        "**Examples**\n",
        "\n",
        "- https://jupyterlite.rtfd.io/en/latest/try/lab (Read The Docs), from https://github.com/jupyterlite/jupyterlite\n",
        "- https://jupyterlite.github.io/demo (GitHub Pages), from https://github.com/jupyterlite/demo\n",
        "\n",
        "<p style=\"text-align: center\">\n",
        "    <img src=\"https://user-images.githubusercontent.com/591645/120649478-18258400-c47d-11eb-80e5-185e52ff2702.gif\">\n",
        "</p>"
      ]
    },
    {
      "cell_type": "markdown",
      "metadata": {},
      "source": [
        "<br><br><br><br><br><br><br><br><br><br><br><br><br><br><br><br><br><br><br><br><br><br><br><br><br><br><br><br><br><br><br><br><br><br><br><br>"
      ]
    },
    {
      "cell_type": "markdown",
      "metadata": {},
      "source": [
        "# The `jupyterlite` CLI is a **Static Site Generator** (SSG)\n",
        "\n",
        "![image](https://user-images.githubusercontent.com/591645/162620288-b3d67ee3-4da2-46d0-ad47-a1713f286cd8.png)\n",
        "\n"
      ]
    },
    {
      "cell_type": "markdown",
      "metadata": {},
      "source": [
        "<br><br><br><br><br><br><br><br><br><br><br><br><br><br><br><br><br><br><br><br><br><br><br><br><br><br><br><br><br><br><br><br><br><br><br><br>"
      ]
    },
    {
      "cell_type": "markdown",
      "metadata": {},
      "source": [
        "# Create your own in minutes! ⏲️\n",
        "\n",
        "## The JupyterLite Demo repo: https://github.com/jupyterlite/demo\n",
        "\n",
        "![](https://user-images.githubusercontent.com/21197331/125816904-5768008a-77de-4cb3-8013-f3999b135c02.gif)"
      ]
    },
    {
      "cell_type": "markdown",
      "metadata": {},
      "source": [
        "<br><br><br><br><br><br><br><br><br><br><br><br><br><br><br><br><br><br><br><br><br><br><br><br><br><br><br><br><br><br><br><br><br><br><br><br>"
      ]
    },
    {
      "cell_type": "markdown",
      "metadata": {},
      "source": [
        "# Lightweight Jupyter Frontend running in the browser\n",
        "\n",
        "<img src=\"https://raw.githubusercontent.com/jupyterlite/jupyterlite/main/docs/_static/badge-launch.svg\" width=512 />\n",
        "\n",
        "### ✅ no server\n",
        "\n",
        "### ✅ no command line\n",
        "\n",
        "### ✅ no need to install Python and other packages locally\n",
        "\n",
        "### ✅ pre-download all static assets (offline mode, put on a USB stick) 💾 "
      ]
    },
    {
      "cell_type": "markdown",
      "metadata": {},
      "source": [
        "<br><br><br><br><br><br><br><br><br><br><br><br><br><br><br><br><br><br><br><br><br><br><br><br><br><br><br><br><br><br><br><br><br><br><br><br>"
      ]
    },
    {
      "cell_type": "markdown",
      "metadata": {},
      "source": [
        "# Easy to deploy\n",
        "\n",
        "### Documentation: https://jupyterlite.readthedocs.io/en/latest/deploying.html\n",
        "\n",
        "### Served via well-cacheable, static HTTP(S), locally or on most static web hosts\n",
        "\n",
        "<img width=256 src=\"https://user-images.githubusercontent.com/591645/120675034-00f29080-c495-11eb-928c-26bb94e8eb68.png\">\n",
        "\n",
        "<img width=256 src=\"https://user-images.githubusercontent.com/591645/120676545-6dba5a80-c496-11eb-9b2b-604e92c3429b.png\">\n",
        "\n",
        "<img width=256 src=\"https://user-images.githubusercontent.com/591645/120675516-6f375300-c495-11eb-819c-d6f1fb3cb0f1.png\">\n",
        "\n",
        "<img width=256 src=\"https://user-images.githubusercontent.com/591645/120676108-03a1b580-c496-11eb-8990-ed30c7861376.png\">\n",
        "\n",
        "<img width=256 src=\"https://user-images.githubusercontent.com/591645/120676313-2df37300-c496-11eb-8639-25e2fc606850.png\">\n",
        "\n",
        "And more: Netlify, nginx, Heroku..."
      ]
    },
    {
      "cell_type": "markdown",
      "metadata": {},
      "source": [
        "<br><br><br><br><br><br><br><br><br><br><br><br><br><br><br><br><br><br><br><br><br><br><br><br><br><br><br><br><br><br><br><br><br><br><br><br>"
      ]
    },
    {
      "cell_type": "markdown",
      "metadata": {
        "tags": []
      },
      "source": [
        "## History\n",
        "\n",
        "### Jyve, by Nicholas Bollweg\n",
        "\n",
        "<p style=\"text-align: center\">\n",
        "    <img src=\"https://user-images.githubusercontent.com/591645/120651123-b8c87380-c47e-11eb-92dc-91577794544b.png\" width=\"40%\">\n",
        "</p>\n",
        "\n",
        "### p5 notebook, by Jeremy Tuloup\n",
        "\n",
        "<p style=\"text-align: center\">\n",
        "    <img src=\"https://raw.githubusercontent.com/jtpio/p5-notebook/e2ce096b2061e2a20b08d1e2e49de00d93055a5a/screenshot.png\" width=\"40%\">\n",
        "</p>\n",
        "\n",
        "### Basthon, by Romain Casati\n",
        "\n",
        "<p style=\"text-align: center\">\n",
        "    <img src=\"https://user-images.githubusercontent.com/591645/120651295-eb726c00-c47e-11eb-99c6-4a72f90e3bc2.png\" width=\"40%\">\n",
        "</p>\n",
        "\n",
        "### Starboard, by Guido Zuidhof\n",
        "\n",
        "<p style=\"text-align: center\">\n",
        "    <img src=\"https://user-images.githubusercontent.com/591645/120651446-1492fc80-c47f-11eb-91aa-8b891832d921.png\" width=\"40%\">\n",
        "</p>\n",
        "\n",
        "### Observable, by Mike Bostock\n",
        "\n",
        "<p style=\"text-align: center\">\n",
        "    <img src=\"https://user-images.githubusercontent.com/591645/120678237-2fbe3600-c498-11eb-8654-d521afa8c311.png\" width=\"40%\">\n",
        "</p>"
      ]
    },
    {
      "cell_type": "markdown",
      "metadata": {},
      "source": [
        "<br><br><br><br><br><br><br><br><br><br><br><br><br><br><br><br><br><br><br><br><br><br><br><br><br><br><br><br><br><br><br><br><br><br><br><br>"
      ]
    },
    {
      "cell_type": "markdown",
      "metadata": {},
      "source": [
        "<p style=\"text-align: center\">\n",
        "    <img src=\"https://user-images.githubusercontent.com/591645/162559340-bf7e738a-7195-419e-9ae1-e10d9ea6783e.png\" width=\"40%\">\n",
        "</p>"
      ]
    },
    {
      "cell_type": "markdown",
      "metadata": {},
      "source": [
        "<br><br><br><br><br><br><br><br><br><br><br><br><br><br><br><br><br><br><br><br><br><br><br><br><br><br><br><br><br><br><br><br><br><br><br><br>"
      ]
    },
    {
      "cell_type": "markdown",
      "metadata": {},
      "source": [
        "# JupyterLab and Jupyter Notebook v7\n",
        "\n",
        "- Support for saving settings for JupyterLab core and federated extensions\n",
        "- Session and kernel management to have multiple kernels running on the page at the same time\n",
        "- Support for [Code Consoles](https://jupyterlab.readthedocs.io/en/stable/user/code_console.html)\n",
        "- Additional display languages like French and Simplified Chinese\n",
        "- Built-in JupyterLab Themes and third-party (prebuilt) themes"
      ]
    },
    {
      "cell_type": "markdown",
      "metadata": {},
      "source": [
        "<br><br><br><br><br><br><br><br><br><br><br><br><br><br><br><br><br><br><br><br><br><br><br><br><br><br><br><br><br><br><br><br><br><br><br><br>"
      ]
    },
    {
      "cell_type": "markdown",
      "metadata": {},
      "source": [
        "# Standing on the shoulders of giants 💁‍♂️\n",
        "\n",
        "## ✳️ Built from the ground-up using JupyterLab components and extensions\n",
        "\n",
        "## ✳️ The frontend communicates to the in-browser kernels via the Jupyter Protocol\n",
        "\n",
        "![lite-ecosystem](https://user-images.githubusercontent.com/591645/162748538-e44fea00-f727-4055-b795-8f5fc5c6b133.png)"
      ]
    },
    {
      "cell_type": "markdown",
      "metadata": {},
      "source": [
        "<br><br><br><br><br><br><br><br><br><br><br><br><br><br><br><br><br><br><br><br><br><br><br><br><br><br><br><br><br><br><br><br><br><br><br><br>"
      ]
    },
    {
      "cell_type": "markdown",
      "metadata": {},
      "source": [
        "#  Wasm powered Jupyter running in the browser 💡"
      ]
    },
    {
      "cell_type": "markdown",
      "metadata": {},
      "source": [
        "<br><br><br><br><br><br><br><br><br><br><br><br><br><br><br><br><br><br><br><br><br><br><br><br><br><br><br><br><br><br><br><br><br><br><br><br>"
      ]
    },
    {
      "cell_type": "markdown",
      "metadata": {},
      "source": [
        "# The Pyolite Kernel\n",
        "\n",
        "## A Python kernel powered by Pyodide\n",
        "\n",
        "## Pyodide = Python and the scientific stack compiled to WebAssembly\n",
        "\n",
        "![pyodide-logo](https://raw.githubusercontent.com/pyodide/pyodide/master/docs/_static/img/pyodide-logo.png)"
      ]
    },
    {
      "cell_type": "code",
      "execution_count": null,
      "metadata": {},
      "outputs": [],
      "source": [
        "import pyolite\n",
        "pyolite.__version__"
      ]
    },
    {
      "cell_type": "code",
      "execution_count": null,
      "metadata": {},
      "outputs": [],
      "source": [
        "import sys\n",
        "sys.version"
      ]
    },
    {
      "cell_type": "markdown",
      "metadata": {},
      "source": [
        "<br><br><br><br><br><br><br><br><br><br><br><br><br><br><br><br><br><br><br><br><br><br><br><br><br><br><br><br><br><br><br><br><br><br><br><br>"
      ]
    },
    {
      "cell_type": "markdown",
      "metadata": {},
      "source": [
        "## Interactive visualizations"
      ]
    },
    {
      "cell_type": "markdown",
      "metadata": {},
      "source": [
        "## [Matplotlib](./pyolite/matplotlib.ipynb)"
      ]
    },
    {
      "cell_type": "code",
      "execution_count": null,
      "metadata": {
        "trusted": true
      },
      "outputs": [],
      "source": [
        "import numpy as np\n",
        "import matplotlib.pyplot as plt"
      ]
    },
    {
      "cell_type": "code",
      "execution_count": null,
      "metadata": {
        "trusted": true
      },
      "outputs": [],
      "source": [
        "x = np.linspace(0, 10, 1000)\n",
        "plt.plot(x, np.sin(x))\n",
        "plt.show()"
      ]
    },
    {
      "cell_type": "markdown",
      "metadata": {
        "tags": []
      },
      "source": [
        "## [Plotly](./pyolite/plotly.ipynb)"
      ]
    },
    {
      "cell_type": "code",
      "execution_count": null,
      "metadata": {
        "trusted": true
      },
      "outputs": [],
      "source": [
        "import piplite\n",
        "\n",
        "await piplite.install(['nbformat', 'plotly'])"
      ]
    },
    {
      "cell_type": "code",
      "execution_count": null,
      "metadata": {
        "trusted": true
      },
      "outputs": [],
      "source": [
        "import plotly.graph_objects as go\n",
        "fig = go.Figure()\n",
        "fig.add_trace(go.Scatter(y=[2, 1, 4, 3]))\n",
        "fig.add_trace(go.Bar(y=[1, 4, 3, 2]))\n",
        "fig.update_layout(title = 'Hello Figure')\n",
        "fig.show()"
      ]
    },
    {
      "cell_type": "markdown",
      "metadata": {
        "tags": []
      },
      "source": [
        "## [Altair](./pyolite/altair.ipynb)"
      ]
    },
    {
      "cell_type": "code",
      "execution_count": null,
      "metadata": {
        "trusted": true
      },
      "outputs": [],
      "source": [
        "await piplite.install(\"altair\")"
      ]
    },
    {
      "cell_type": "code",
      "execution_count": null,
      "metadata": {
        "trusted": true
      },
      "outputs": [],
      "source": [
        "import altair as alt\n",
        "import pandas as pd\n",
        "\n",
        "source = pd.DataFrame({\n",
        "    'a': ['A', 'B', 'C', 'D', 'E', 'F', 'G', 'H', 'I'],\n",
        "    'b': [28, 55, 43, 91, 81, 53, 19, 87, 52]\n",
        "})\n",
        "\n",
        "alt.Chart(source).mark_bar().encode(\n",
        "    x='a',\n",
        "    y='b'\n",
        ")"
      ]
    },
    {
      "cell_type": "markdown",
      "metadata": {},
      "source": [
        "## GeoJSON"
      ]
    },
    {
      "cell_type": "code",
      "execution_count": null,
      "metadata": {
        "trusted": true
      },
      "outputs": [],
      "source": [
        "def GeoJSON(data):\n",
        "    bundle = {}\n",
        "    bundle['application/geo+json'] = data\n",
        "    bundle['text/plain'] = data\n",
        "    display(bundle, raw=True)\n",
        "    \n",
        "GeoJSON({\n",
        "  \"type\": \"Feature\",\n",
        "  \"geometry\": {\n",
        "    \"type\": \"Point\",\n",
        "    \"coordinates\": [13.416530544500729, 52.52090154392871]\n",
        "  },\n",
        "  \"properties\": {\n",
        "    \"name\": \"Berlin Congress Center\"\n",
        "  }\n",
        "})"
      ]
    },
    {
      "cell_type": "markdown",
      "metadata": {},
      "source": [
        "<br><br><br><br><br><br><br><br><br><br><br><br><br><br><br><br><br><br><br><br><br><br><br><br><br><br><br><br><br><br><br><br><br><br><br><br>"
      ]
    },
    {
      "cell_type": "markdown",
      "metadata": {},
      "source": [
        "# Jupyter Widgets"
      ]
    },
    {
      "cell_type": "markdown",
      "metadata": {
        "tags": []
      },
      "source": [
        "## [ipywidgets](./pyolite/interactive-widgets.ipynb)"
      ]
    },
    {
      "cell_type": "code",
      "execution_count": null,
      "metadata": {},
      "outputs": [],
      "source": [
        "await piplite.install('ipywidgets')\n",
        "\n",
        "from ipywidgets import IntSlider\n",
        "\n",
        "slider = IntSlider()\n",
        "slider"
      ]
    },
    {
      "cell_type": "code",
      "execution_count": null,
      "metadata": {},
      "outputs": [],
      "source": [
        "slider"
      ]
    },
    {
      "cell_type": "code",
      "execution_count": null,
      "metadata": {},
      "outputs": [],
      "source": [
        "slider.value"
      ]
    },
    {
      "cell_type": "code",
      "execution_count": null,
      "metadata": {},
      "outputs": [],
      "source": [
        "from ipywidgets import IntText, link\n",
        "text = IntText()"
      ]
    },
    {
      "cell_type": "code",
      "execution_count": null,
      "metadata": {},
      "outputs": [],
      "source": [
        "text"
      ]
    },
    {
      "cell_type": "code",
      "execution_count": null,
      "metadata": {},
      "outputs": [],
      "source": [
        "link((slider, 'value'), (text, 'value'));"
      ]
    },
    {
      "cell_type": "code",
      "execution_count": null,
      "metadata": {},
      "outputs": [],
      "source": [
        "await piplite.install('bqplot')\n",
        "\n",
        "from bqplot import *\n",
        "\n",
        "import numpy as np\n",
        "import pandas as pd\n",
        "\n",
        "np.random.seed(0)\n",
        "\n",
        "n = 100\n",
        "\n",
        "x = list(range(n))\n",
        "y = np.cumsum(np.random.randn(n)) + 100.\n",
        "\n",
        "sc_x = LinearScale()\n",
        "sc_y = LinearScale()\n",
        "\n",
        "lines = Lines(\n",
        "    x=x, y=y,\n",
        "    scales={'x': sc_x, 'y': sc_y}\n",
        ")\n",
        "ax_x = Axis(scale=sc_x, label='Index')\n",
        "ax_y = Axis(scale=sc_y, orientation='vertical', label='lines')\n",
        "\n",
        "Figure(marks=[lines], axes=[ax_x, ax_y], title='Lines')\n"
      ]
    },
    {
      "cell_type": "code",
      "execution_count": null,
      "metadata": {},
      "outputs": [],
      "source": [
        "lines.colors = ['green']"
      ]
    },
    {
      "cell_type": "code",
      "execution_count": null,
      "metadata": {},
      "outputs": [],
      "source": [
        "lines.fill = 'bottom'"
      ]
    },
    {
      "cell_type": "code",
      "execution_count": null,
      "metadata": {},
      "outputs": [],
      "source": [
        "lines.marker = 'circle'"
      ]
    },
    {
      "cell_type": "code",
      "execution_count": null,
      "metadata": {},
      "outputs": [],
      "source": [
        "n = 100\n",
        "\n",
        "x = list(range(n))\n",
        "y = np.cumsum(np.random.randn(n))\n",
        "\n",
        "sc_x = LinearScale()\n",
        "sc_y = LinearScale()\n",
        "\n",
        "bars = Bars(\n",
        "    x=x, y=y,\n",
        "    scales={'x': sc_x, 'y': sc_y}\n",
        ")\n",
        "ax_x = Axis(scale=sc_x, label='Index')\n",
        "ax_y = Axis(scale=sc_y, orientation='vertical', label='bars')\n",
        "\n",
        "Figure(marks=[bars], axes=[ax_x, ax_y], title='Bars', animation_duration=1000)"
      ]
    },
    {
      "cell_type": "code",
      "execution_count": null,
      "metadata": {},
      "outputs": [],
      "source": [
        "bars.y = np.cumsum(np.random.randn(n))"
      ]
    },
    {
      "cell_type": "markdown",
      "metadata": {},
      "source": [
        "\n",
        "## [ipycanvas](./pyolite/ipycanvas.ipynb)"
      ]
    },
    {
      "cell_type": "code",
      "execution_count": null,
      "metadata": {},
      "outputs": [],
      "source": [
        "await piplite.install('ipycanvas')\n",
        "\n",
        "import asyncio\n",
        "\n",
        "import numpy as np\n",
        "\n",
        "from ipycanvas import RoughCanvas, hold_canvas"
      ]
    },
    {
      "cell_type": "code",
      "execution_count": null,
      "metadata": {},
      "outputs": [],
      "source": [
        "def life_step(x):\n",
        "    \"\"\"Game of life step\"\"\"\n",
        "    nbrs_count = sum(np.roll(np.roll(x, i, 0), j, 1)\n",
        "                     for i in (-1, 0, 1) for j in (-1, 0, 1)\n",
        "                     if (i != 0 or j != 0))\n",
        "    return (nbrs_count == 3) | (x & (nbrs_count == 2))"
      ]
    },
    {
      "cell_type": "code",
      "execution_count": null,
      "metadata": {},
      "outputs": [],
      "source": [
        "def draw(x, canvas, color='black'):\n",
        "    with hold_canvas(canvas):\n",
        "        canvas.clear()\n",
        "        canvas.fill_style = '#FFF0C9'\n",
        "        canvas.rough_fill_style = 'solid'\n",
        "        canvas.fill_rect(-10, -10, canvas.size[0] + 10, canvas.size[1] + 10)\n",
        "        canvas.rough_fill_style = 'cross-hatch'\n",
        "\n",
        "        canvas.fill_style = color\n",
        "        canvas.stroke_style = color\n",
        "\n",
        "        living_cells = np.where(x)\n",
        "        \n",
        "        rects_x = living_cells[1] * n_pixels\n",
        "        rects_y = living_cells[0] * n_pixels\n",
        "\n",
        "        canvas.fill_rects(rects_x, rects_y, n_pixels)\n",
        "        canvas.stroke_rects(rects_x, rects_y, n_pixels)"
      ]
    },
    {
      "cell_type": "code",
      "execution_count": null,
      "metadata": {},
      "outputs": [],
      "source": [
        "glider_gun =\\\n",
        "[[0,0,0,0,0,0,0,0,0,0,0,0,0,0,0,0,0,0,0,0,0,0,0,0,1,0,0,0,0,0,0,0,0,0,0,0],\n",
        " [0,0,0,0,0,0,0,0,0,0,0,0,0,0,0,0,0,0,0,0,0,0,1,0,1,0,0,0,0,0,0,0,0,0,0,0],\n",
        " [0,0,0,0,0,0,0,0,0,0,0,0,1,1,0,0,0,0,0,0,1,1,0,0,0,0,0,0,0,0,0,0,0,0,1,1],\n",
        " [0,0,0,0,0,0,0,0,0,0,0,1,0,0,0,1,0,0,0,0,1,1,0,0,0,0,0,0,0,0,0,0,0,0,1,1],\n",
        " [1,1,0,0,0,0,0,0,0,0,1,0,0,0,0,0,1,0,0,0,1,1,0,0,0,0,0,0,0,0,0,0,0,0,0,0],\n",
        " [1,1,0,0,0,0,0,0,0,0,1,0,0,0,1,0,1,1,0,0,0,0,1,0,1,0,0,0,0,0,0,0,0,0,0,0],\n",
        " [0,0,0,0,0,0,0,0,0,0,1,0,0,0,0,0,1,0,0,0,0,0,0,0,1,0,0,0,0,0,0,0,0,0,0,0],\n",
        " [0,0,0,0,0,0,0,0,0,0,0,1,0,0,0,1,0,0,0,0,0,0,0,0,0,0,0,0,0,0,0,0,0,0,0,0],\n",
        " [0,0,0,0,0,0,0,0,0,0,0,0,1,1,0,0,0,0,0,0,0,0,0,0,0,0,0,0,0,0,0,0,0,0,0,0]]\n",
        "\n",
        "x = np.zeros((50, 70), dtype=bool)\n",
        "x[1:10,1:37] = glider_gun"
      ]
    },
    {
      "cell_type": "code",
      "execution_count": null,
      "metadata": {},
      "outputs": [],
      "source": [
        "n_pixels = 15\n",
        "\n",
        "canvas = RoughCanvas(width=x.shape[1]*n_pixels, height=x.shape[0]*n_pixels)\n",
        "canvas.fill_style = '#FFF0C9'\n",
        "canvas.rough_fill_style = 'solid'\n",
        "canvas.fill_rect(0, 0, canvas.size[0], canvas.size[1])\n",
        "\n",
        "canvas"
      ]
    },
    {
      "cell_type": "code",
      "execution_count": null,
      "metadata": {},
      "outputs": [],
      "source": [
        "draw(x, canvas, '#5770B3')"
      ]
    },
    {
      "cell_type": "code",
      "execution_count": null,
      "metadata": {},
      "outputs": [],
      "source": [
        "for _ in range(300):\n",
        "    x = life_step(x)\n",
        "    draw(x, canvas, '#5770B3')\n",
        "\n",
        "    await asyncio.sleep(0.1)"
      ]
    },
    {
      "cell_type": "markdown",
      "metadata": {},
      "source": [
        "## [ipyleaflet](./pyolite/ipyleaflet.ipynb)"
      ]
    },
    {
      "cell_type": "markdown",
      "metadata": {},
      "source": [
        "<br><br><br><br><br><br><br><br><br><br><br><br><br><br><br><br><br><br><br><br><br><br><br><br><br><br><br><br><br><br><br><br><br><br><br><br>"
      ]
    },
    {
      "cell_type": "markdown",
      "metadata": {},
      "source": [
        "<p style=\"text-align: center\">\n",
        "    <img src=\"https://user-images.githubusercontent.com/904752/139083996-d158fd29-c038-4370-8d39-20956c4510bf.png\" width=\"40%\">\n",
        "</p>\n",
        "\n",
        "# Xeus powered kernels with WebAssembly \n",
        "\n",
        "## Blog post: https://blog.jupyter.org/xeus-lite-379e96bb199d\n",
        "<br>\n",
        "\n",
        "## Xeus is C++ library for writing Jupyter kernels :\n",
        "### ➡️ [xeus-cling](https://github.com/QuantStack/xeus-cling)  ➡️ [xeus-python](https://github.com/jupyter-xeus/xeus-python) ➡️ [xeus-lua](https://github.com/jupyter-xeus/xeus-lua) ➡️ [xeus-sql](https://github.com/jupyter-xeus/xeus-sql)\n"
      ]
    },
    {
      "cell_type": "markdown",
      "metadata": {},
      "source": [
        "<br><br><br><br><br><br><br><br><br><br><br><br><br><br><br><br><br><br><br><br><br><br><br><br><br><br><br><br><br><br><br><br><br><br><br><br>\n"
      ]
    },
    {
      "cell_type": "markdown",
      "metadata": {},
      "source": [
        "<p style=\"text-align: center\">\n",
        "    <img src=\"https://xeus.readthedocs.io/en/latest/_images/xeus.svg\" width=\"40%\">\n",
        "</p>\n",
        "\n",
        "# xeus-sqlite\n",
        "\n",
        "### Mariana Meireles: https://github.com/marimeireles\n",
        "\n",
        "### Thorsten Beier: https://github.com/DerThorsten\n",
        "\n",
        "## ➡️ [Demo Notebook](./xeus-sqlite/simple-operations.ipynb)"
      ]
    },
    {
      "cell_type": "markdown",
      "metadata": {},
      "source": [
        "<br><br><br><br><br><br><br><br><br><br><br><br><br><br><br><br><br><br><br><br><br><br><br><br><br><br><br><br><br><br><br><br><br><br><br><br>"
      ]
    },
    {
      "cell_type": "markdown",
      "metadata": {},
      "source": [
        "# JupyterLite Kernels\n",
        "\n",
        "| Language   | Name              |                                                                                                                                                                |\n",
        "|------------|-------------------|----------------------------------------------------------------------------------------------------------------------------------------------------------------|\n",
        "| Python     | Pyolite           | ![](https://jupyterlite.github.io/demo/kernelspecs/python.png)                                                                                                 |\n",
        "| SQL        | xeus-sqlite       | ![](https://jupyterlite.github.io/demo/extensions/@jupyterlite/xeus-sqlite-kernel/static/1d294d21c80c4bf4e239740688a0c5b9d5b34ce1d8bc7749901c022b22be74fb.png) |\n",
        "| Lua        | xeus-lua          | ![](https://jupyterlite.github.io/demo/extensions/@jupyterlite/xeus-lua-kernel/static/ef04946322537d832f3fad9e57f58276.png)                                    |\n",
        "| JavaScript | javascript-kernel | ![](https://jupyterlite.github.io/demo/kernelspecs/javascript.svg)                                                                                             |\n",
        "| p5.js      | p5-kernel         | ![](https://jupyterlite.github.io/demo/extensions/@jupyterlite/p5-kernel-extension/static/49bd0f07faea7cc6679aff248db41a5a.png)                                |\n",
        "| Wren       | xeus-wren         | ![](https://jupyterlite.github.io/demo/extensions/@jupyterlite/xeus-wren-kernel/static/814862bbbed93fb113fe365e92ce092bb9caaf2d8699dff76004ae353f3a4b1d.png)   |\n",
        "| Echo       | echo-kernel       | 🗣️                                                                                                                                                              |"
      ]
    },
    {
      "cell_type": "markdown",
      "metadata": {},
      "source": [
        "<br><br><br><br><br><br><br><br><br><br><br><br><br><br><br><br><br><br><br><br><br><br><br><br><br><br><br><br><br><br><br><br><br><br><br><br>"
      ]
    },
    {
      "cell_type": "markdown",
      "metadata": {},
      "source": [
        "# Contents\n",
        "\n",
        "## ✳️ A deployment can provide a set of files available by default \n",
        "## ✳️ Combine Offline Notebook storage in browser (`localStorage` or `IndexedDB`) with server files\n",
        "## ✳️ Read `IndexedDB` from Python\n",
        "## ✳️ In the future\n",
        "### ➡️ Normalize the Contents API and how data is exposed to the kernel: https://github.com/jupyterlite/jupyterlite/issues/315#issuecomment-1079819647\n",
        "### ➡️ Provide a base interface for Web Worker kernels: https://github.com/jupyterlite/jupyterlite/issues/463"
      ]
    },
    {
      "cell_type": "markdown",
      "metadata": {},
      "source": [
        "<br><br><br><br><br><br><br><br><br><br><br><br><br><br><br><br><br><br><br><br><br><br><br><br><br><br><br><br><br><br><br><br><br><br><br><br>"
      ]
    },
    {
      "cell_type": "markdown",
      "metadata": {},
      "source": [
        "# Share Files Easily\n",
        "\n",
        "<p style=\"text-align: center\">\n",
        "    <img src=\"https://user-images.githubusercontent.com/591645/139148148-ce1ecb0e-1f1b-4d4d-ad1d-3f7200b1e7cc.png\" width=\"40%\">\n",
        "</p>"
      ]
    },
    {
      "cell_type": "markdown",
      "metadata": {},
      "source": [
        "<br><br><br><br><br><br><br><br><br><br><br><br><br><br><br><br><br><br><br><br><br><br><br><br><br><br><br><br><br><br><br><br><br><br><br><br>"
      ]
    },
    {
      "cell_type": "markdown",
      "metadata": {},
      "source": [
        "# Local File System Access\n",
        "\n",
        "## ✳️ Via the `jupyterlab-filesystem-access` extension (still very much alpha ☠️)\n",
        "\n",
        "### ⚠️ **Chromium-based browsers only (for now)** ⚠️\n",
        "\n",
        "<p style=\"text-align: center\">\n",
        "    <video controls src=\"https://user-images.githubusercontent.com/591645/160241594-6b363b06-2103-445a-ac68-9ecc6104e0c4.mp4\">\n",
        "</p>"
      ]
    },
    {
      "cell_type": "markdown",
      "metadata": {},
      "source": [
        "<br><br><br><br><br><br><br><br><br><br><br><br><br><br><br><br><br><br><br><br><br><br><br><br><br><br><br><br><br><br><br><br><br><br><br><br>"
      ]
    },
    {
      "cell_type": "markdown",
      "metadata": {},
      "source": [
        "# Real Time Collaboration via WebRTC\n",
        "\n",
        "## PyData Global 2021 Presentation by Kevin Jahns: https://www.youtube.com/watch?v=QtoJsK8QYNk\n",
        "\n",
        "\n",
        "<p style=\"text-align: center\">\n",
        "    <img src=\"https://user-images.githubusercontent.com/591645/120653630-2b3a5300-c481-11eb-8c66-eeaa3674cbb1.gif\" width=\"100%\">\n",
        "</p>"
      ]
    },
    {
      "cell_type": "markdown",
      "metadata": {},
      "source": [
        "<br><br><br><br><br><br><br><br><br><br><br><br><br><br><br><br><br><br><br><br><br><br><br><br><br><br><br><br><br><br><br><br><br><br><br><br>"
      ]
    },
    {
      "cell_type": "markdown",
      "metadata": {},
      "source": [
        "# A Jupyter Server running in the browser\n",
        "\n",
        "- provides in-browser equivalents of much of \"normal\" JupyterLab Server\n",
        "- plugin-based Lumino application, _à la_ JupyterLab\n",
        "- customizable with pre-built _server extensions_\n",
        "  - new kernels\n",
        "  - different contents managers\n",
        "  - remote kernels\n",
        "\n",
        "<p style=\"text-align: center\">\n",
        "    <img src=\"https://user-images.githubusercontent.com/591645/162563632-0cabf224-0f6f-40bd-8696-63f2119ab788.png\">\n",
        "</p>"
      ]
    },
    {
      "cell_type": "markdown",
      "metadata": {},
      "source": [
        "<br><br><br><br><br><br><br><br><br><br><br><br><br><br><br><br><br><br><br><br><br><br><br><br><br><br><br><br><br><br><br><br><br><br><br><br>"
      ]
    },
    {
      "cell_type": "markdown",
      "metadata": {},
      "source": [
        "# Jupyter Everywhere 🌐\n",
        "\n",
        "![jupyter-everywhere](https://user-images.githubusercontent.com/591645/162568867-343ecd3b-1344-4353-a885-73a78f79fd13.jpg)"
      ]
    },
    {
      "cell_type": "markdown",
      "metadata": {},
      "source": [
        "<br><br><br><br><br><br><br><br><br><br><br><br><br><br><br><br><br><br><br><br><br><br><br><br><br><br><br><br><br><br><br><br><br><br><br><br>"
      ]
    },
    {
      "cell_type": "markdown",
      "metadata": {},
      "source": [
        "## Embed a live Python console on your website 🚀\n",
        "\n",
        "Blog post: https://blog.jupyter.org/jupyter-everywhere-f8151c2cc6e8\n",
        "\n",
        "### The REPL Application\n",
        "\n",
        "![image](https://user-images.githubusercontent.com/591645/162570397-417cd87f-cc82-44aa-bc84-feff9cb4c530.png)\n",
        "\n",
        "### Embed with:\n",
        "\n",
        "```html\n",
        "<iframe\n",
        "  src=\"https://jupyterlite.github.io/demo/repl/index.html?kernel=python&toolbar=1\"\n",
        "  width=\"100%\"\n",
        "  height=\"500px\"\n",
        ">\n",
        "</iframe>\n",
        "```\n",
        "\n",
        "### And 🎉\n",
        "\n",
        "![image](https://user-images.githubusercontent.com/591645/162619390-ecab994a-3f39-4e26-af78-ca2569aee9b2.png)\n",
        "\n",
        "### Example\n",
        "\n",
        "https://jtp.io/2022/02/22/jupyterlite-repl.html"
      ]
    },
    {
      "cell_type": "markdown",
      "metadata": {},
      "source": [
        "<br><br><br><br><br><br><br><br><br><br><br><br><br><br><br><br><br><br><br><br><br><br><br><br><br><br><br><br><br><br><br><br><br><br><br><br>"
      ]
    },
    {
      "cell_type": "markdown",
      "metadata": {},
      "source": [
        "\n",
        "\n",
        "### [numpy.org](https://numpy.org)\n",
        "\n",
        "![image](https://user-images.githubusercontent.com/591645/162569443-40e841ad-f42d-44eb-966f-c1c810c1ab10.png)\n",
        "\n",
        "## [try.jupyter.org](https://try.jupyter.org)\n",
        "\n",
        "![image](https://user-images.githubusercontent.com/591645/162569510-56287b4b-acf2-47f9-90af-7b0605c5b112.png)\n",
        "\n",
        "#### ✳️ Help reduce the load on [mybinder.org](https://mybinder.org)\n",
        "#### ✳️ Huge savings: trade compute resources (1 GB / 1 CPU) for static assets\n",
        "\n",
        "![image](https://user-images.githubusercontent.com/591645/162619537-b3fce1ee-9929-4b03-aa1f-acd8e0c2eb72.png)\n",
        "\n",
        "## [jupyterlite-sphinx](https://jupyterlite-sphinx.readthedocs.io/en/latest/)\n",
        "\n",
        "![image](https://user-images.githubusercontent.com/591645/162572578-a3ee770b-d622-4e18-a7c0-71d98627309f.png)\n",
        "\n",
        "## More to come\n",
        "\n",
        "#### ✳️ Pandas: https://github.com/pandas-dev/pandas/issues/46682\n",
        "#### ✳️ Sympy: https://github.com/sympy/sympy.github.com/pull/169\n",
        "#### ✳️ Interactive Shells for other languages, for example SQLite?\n",
        "\n",
        "https://jupyterlite.github.io/demo/repl/?kernel=SQLite&toolbar=1&code=%25CREATE%20example_db.db&code=CREATE%20TABLE%20players%20(Name%20STRING%2C%20Class%20STRING%2C%20Level%20INTEGER%2C%20Hitpoints%20INTEGER)&code=INSERT%20INTO%20players%20(Name%2C%20Class%2C%20Level%2C%20Hitpoints)%20VALUES%20(%22Martin%20Splitskull%22%2C%20%22Warrior%22%2C%203%2C%2040)\n",
        "\n",
        "#### ✳️ More documentation websites"
      ]
    },
    {
      "cell_type": "markdown",
      "metadata": {},
      "source": [
        "<br><br><br><br><br><br><br><br><br><br><br><br><br><br><br><br><br><br><br><br><br><br><br><br><br><br><br><br><br><br><br><br><br><br><br><br>"
      ]
    },
    {
      "cell_type": "markdown",
      "metadata": {},
      "source": [
        "## p5 notebook: a custom JupyterLite deployment focused on p5.js\n",
        "\n",
        "### Repo: https://github.com/jtpio/p5-notebook\n",
        "\n",
        "### Try it on: https://p5nb.vercel.app\n",
        "\n",
        "<p style=\"text-align: center\">\n",
        "    <img src=\"https://user-images.githubusercontent.com/591645/135836629-4fb3e6f7-fde5-41d7-bea7-7bd714c5f428.gif\">\n",
        "</p>"
      ]
    },
    {
      "cell_type": "markdown",
      "metadata": {},
      "source": [
        "<br><br><br><br><br><br><br><br><br><br><br><br><br><br><br><br><br><br><br><br><br><br><br><br><br><br><br><br><br><br><br><br><br><br><br><br>"
      ]
    },
    {
      "cell_type": "markdown",
      "metadata": {},
      "source": [
        "# Limitations\n",
        "\n",
        "## ❇️ Suited for lighter workloads\n",
        "\n",
        "## ❇️ `micropip` / `piplite` to install packages (Python kernel)\n",
        "\n",
        "- Pure Python wheels for now\n",
        "- This would be improved by the on-going work by leveraging the conda forge tooling. \n",
        "\n",
        "## ❇️ Contents management (on-going work)\n",
        "\n",
        "## ❇️ Initial asset download can be big (~30MB), then cached by the browserj"
      ]
    },
    {
      "cell_type": "markdown",
      "metadata": {},
      "source": [
        "<br><br><br><br><br><br><br><br><br><br><br><br><br><br><br><br><br><br><br><br><br><br><br><br><br><br><br><br><br><br><br><br><br><br><br><br>"
      ]
    },
    {
      "cell_type": "markdown",
      "metadata": {},
      "source": [
        "# Up Next 🔭\n",
        "\n",
        "## ✳️ Better way to expose files and contents to the kernels\n",
        "\n",
        "## ✳️ Improved package management for WebAssembly with conda-forge\n",
        "\n",
        "### `python-wasm` repo: https://github.com/ethanhs/python-wasm\n",
        "\n",
        "- Ethan Smith  \n",
        "- Christian Heimes \n",
        "- Brett Cannon\n",
        "\n",
        "### The future of Pyodide\n",
        "\n",
        "#### Pyodide: https://github.com/pyodide/pyodide\n",
        "\n",
        "#### Emscripten Forge: https://github.com/emscripten-forge/recipes\n",
        "\n",
        "- Michael Droettboom \n",
        "- Hood Chatham\n",
        "- Roman Yurchak\n",
        "- Thorsten Beier\n",
        "\n",
        "## ✳️ \"Voilite\": Voilà dashboards running in the browser"
      ]
    },
    {
      "cell_type": "markdown",
      "metadata": {},
      "source": [
        "<br><br><br><br><br><br><br><br><br><br><br><br><br><br><br><br><br><br><br><br><br><br><br><br><br><br><br><br><br><br><br><br><br><br><br><br>"
      ]
    },
    {
      "cell_type": "markdown",
      "metadata": {},
      "source": [
        "# Thanks!\n",
        "\n",
        "## Special thanks to all the contributors ❤️\n",
        "\n",
        "<a href=\"https://github.com/jupyterlite/jupyterlite/graphs/contributors\">\n",
        "  <img src=\"https://contrib.rocks/image?repo=jupyterlite/jupyterlite\" />\n",
        "</a>\n"
      ]
    }
  ],
  "metadata": {
    "interpreter": {
      "hash": "b297c9f053451c40d9c75031adac3a86ec5d2b3afb3b47bf0229dc17014684ea"
    },
    "kernelspec": {
      "display_name": "Pyolite",
      "language": "python",
      "name": "python3"
    },
    "language_info": {
      "codemirror_mode": {
        "name": "python",
        "version": 3
      },
      "file_extension": ".py",
      "mimetype": "text/x-python",
      "name": "python",
      "nbconvert_exporter": "python",
      "pygments_lexer": "ipython3",
      "version": "3.9.9"
    },
    "toc-showcode": false
  },
  "nbformat": 4,
  "nbformat_minor": 4
}
